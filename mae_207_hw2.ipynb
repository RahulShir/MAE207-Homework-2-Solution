{
 "cells": [
  {
   "cell_type": "markdown",
   "metadata": {},
   "source": [
    "# Assignment 2: Inverse kinematics of our leg\n",
    "\n",
    "Use this noteboook to document interacting with the robot class. The primary goal for this assignment is a video recording and plot rendering of your robot leg commanded to move along an *interesting* path (see the bat sign I chose in the readme page). \n",
    "\n",
    "__Deliverables__\n",
    "1. Your leg.py file in the robot python module we are creating. The template provided has blank functions which need to be completed.\n",
    "2. Two videos, a video of your robot tracing out your commanded trajectory (uploaded to youtube), and a gif of robot commanded trajectory (like on the readme page).\n",
    "3. This notebook which you will use to send the move commands for the trajectory.\n",
    "\n",
    "\n",
    "Team #: 3\n",
    "\n",
    "Names: Rahul Shirpurkar, Qichao Zheng"
   ]
  },
  {
   "cell_type": "markdown",
   "metadata": {},
   "source": [
    "# Getting started"
   ]
  },
  {
   "cell_type": "code",
   "execution_count": 1,
   "metadata": {},
   "outputs": [
    {
     "name": "stdout",
     "output_type": "stream",
     "text": [
      "Connected!\n",
      "here2\n",
      "Jacobian skeleton-function calculated!\n",
      "run next section of code now-\n"
     ]
    }
   ],
   "source": [
    "# Import the robot class we are developing\n",
    "import robot\n",
    "\n",
    "# Make a new leg variable which is a robot.Leg class\n",
    "leg = robot.Leg()"
   ]
  },
  {
   "cell_type": "code",
   "execution_count": 2,
   "metadata": {},
   "outputs": [
    {
     "name": "stdout",
     "output_type": "stream",
     "text": [
      "joint0: 1.897566 \t joint1: 5.634793\n"
     ]
    },
    {
     "data": {
      "text/plain": [
       "(45, 135)"
      ]
     },
     "execution_count": 2,
     "metadata": {},
     "output_type": "execute_result"
    }
   ],
   "source": [
    "#leg.set_home()\n",
    "#leg.move_home()\n",
    "leg.get_joint_pos()\n",
    "\n",
    "print('joint0: %f \\t joint1: %f' % (leg.joint_0_pos, leg.joint_1_pos))\n",
    "\n",
    "leg.set_home()\n"
   ]
  },
  {
   "cell_type": "code",
   "execution_count": 3,
   "metadata": {},
   "outputs": [
    {
     "data": {
      "image/png": "[encoded data removed]",
      "text/plain": [
       "<matplotlib.figure.Figure at 0x26581b48ba8>"
      ]
     },
     "metadata": {},
     "output_type": "display_data"
    }
   ],
   "source": [
    "leg.draw_leg(ax=False)"
   ]
  },
  {
   "cell_type": "markdown",
   "metadata": {},
   "source": [
    "# Your code below!"
   ]
  },
  {
   "cell_type": "code",
   "execution_count": 4,
   "metadata": {},
   "outputs": [],
   "source": [
    "import math\n",
    "\n",
    "\n",
    "xx = []\n",
    "yy = []\n",
    "tt = []\n",
    "r = 4\n",
    "\n",
    "#Coordinates of circle with center (x,y)::(0,15) {circumference divided into 50 points}\n",
    "for t in range(0,51):\n",
    "    xx.append(r*math.cos(math.pi*(360*t)/(180*50)))\n",
    "    yy.append(r*math.sin(math.pi*(360*t + 90)/(180*50))+15)\n",
    "    tt.append(t)\n",
    "    \n",
    "    \n",
    "\n",
    "\n"
   ]
  },
  {
   "cell_type": "code",
   "execution_count": 5,
   "metadata": {},
   "outputs": [
    {
     "name": "stdout",
     "output_type": "stream",
     "text": [
      "[4.0, 3.9684588052579115, 3.8743326445145243, 3.719105943553006, 3.5052267201754543, 3.23606797749979, 2.915874509685646, 2.549695958994759, 2.143307179915986, 1.7031171662602913, 1.2360679774997898, 0.749525258342899, 0.2511620781172541, -0.2511620781172536, -0.7495252583428984, -1.2360679774997902, -1.7031171662602909, -2.1433071799159857, -2.5496959589947576, -2.9158745096856467, -3.2360679774997894, -3.505226720175454, -3.7191059435530054, -3.8743326445145243, -3.968458805257911, -4.0, -3.9684588052579115, -3.8743326445145247, -3.719105943553006, -3.5052267201754543, -3.236067977499789, -2.9158745096856475, -2.549695958994758, -2.1433071799159853, -1.7031171662602917, -1.2360679774997902, -0.749525258342902, -0.2511620781172564, 0.2511620781172549, 0.7495252583428971, 1.236067977499789, 1.7031171662602904, 2.143307179915984, 2.549695958994757, 2.915874509685645, 3.2360679774997894, 3.5052267201754543, 3.719105943553006, 3.874332644514524, 3.968458805257911, 4.0]\n"
     ]
    }
   ],
   "source": [
    "print(xx)"
   ]
  },
  {
   "cell_type": "code",
   "execution_count": 6,
   "metadata": {},
   "outputs": [
    {
     "name": "stdout",
     "output_type": "stream",
     "text": [
      "[15.125643036312514, 15.625737860160923, 16.115964424156918, 16.588591562539122, 17.036165663001483, 17.451628214611905, 17.82842712474619, 18.16062004950276, 18.442968108015776, 18.671018502735926, 18.84117474270777, 18.950753362380553, 18.998026241462927, 18.98224785841232, 18.90366704775499, 18.763523075816902, 18.564026096753473, 18.308322297098247, 18.00044427852184, 17.64524746129461, 17.248333511408525, 16.815961998958187, 16.354951680981166, 15.872572965586171, 15.376433253274058, 14.874356963687488, 14.374262139839077, 13.884035575843082, 13.411408437460878, 12.963834336998517, 12.548371785388095, 12.171572875253808, 11.83937995049724, 11.557031891984225, 11.328981497264074, 11.158825257292229, 11.049246637619449, 11.001973758537073, 11.01775214158768, 11.09633295224501, 11.236476924183098, 11.435973903246527, 11.691677702901753, 11.99955572147816, 12.354752538705391, 12.751666488591477, 13.184038001041813, 13.645048319018834, 14.12742703441383, 14.62356674672594, 15.125643036312512]\n"
     ]
    }
   ],
   "source": [
    "print(yy)"
   ]
  },
  {
   "cell_type": "code",
   "execution_count": null,
   "metadata": {},
   "outputs": [
    {
     "name": "stdout",
     "output_type": "stream",
     "text": [
      "target reached\n",
      "0\n",
      "target reached\n",
      "1\n"
     ]
    }
   ],
   "source": [
    "leg.move_trajectory(tt, xx, yy)"
   ]
  },
  {
   "cell_type": "code",
   "execution_count": 17,
   "metadata": {},
   "outputs": [
    {
     "data": {
      "text/plain": [
       "(102.11005828991831, 77.88994171008169)"
      ]
     },
     "execution_count": 17,
     "metadata": {},
     "output_type": "execute_result"
    }
   ],
   "source": [
    "theta_0 = 90\n",
    "theta_1 = 90\n",
    "\n",
    "leg.compute_internal_angles(theta_0, theta_1)\n",
    "\n"
   ]
  },
  {
   "cell_type": "code",
   "execution_count": null,
   "metadata": {},
   "outputs": [],
   "source": []
  }
 ],
 "metadata": {
  "kernelspec": {
   "display_name": "Python 3",
   "language": "python",
   "name": "python3"
  },
  "language_info": {
   "codemirror_mode": {
    "name": "ipython",
    "version": 3
   },
   "file_extension": ".py",
   "mimetype": "text/x-python",
   "name": "python",
   "nbconvert_exporter": "python",
   "pygments_lexer": "ipython3",
   "version": "3.6.4"
  }
 },
 "nbformat": 4,
 "nbformat_minor": 2
}
